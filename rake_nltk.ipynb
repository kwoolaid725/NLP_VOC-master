{
 "cells": [
  {
   "cell_type": "code",
   "execution_count": 4,
   "outputs": [
    {
     "name": "stderr",
     "output_type": "stream",
     "text": [
      "[nltk_data] Downloading package stopwords to\n",
      "[nltk_data]     C:\\Users\\aiden2.kim\\AppData\\Roaming\\nltk_data...\n",
      "[nltk_data]   Package stopwords is already up-to-date!\n",
      "[nltk_data] Downloading package punkt to\n",
      "[nltk_data]     C:\\Users\\aiden2.kim\\AppData\\Roaming\\nltk_data...\n",
      "[nltk_data]   Unzipping tokenizers\\punkt.zip.\n"
     ]
    },
    {
     "data": {
      "text/plain": "True"
     },
     "execution_count": 4,
     "metadata": {},
     "output_type": "execute_result"
    }
   ],
   "source": [
    "import nltk\n",
    "nltk.download('stopwords')\n",
    "nltk.download('punkt')"
   ],
   "metadata": {
    "collapsed": false
   }
  },
  {
   "cell_type": "code",
   "execution_count": 5,
   "outputs": [
    {
     "name": "stdout",
     "output_type": "stream",
     "text": [
      "['advanced natural language processing', 'software company explosion', 'programming languages python', 'source software library', 'mit license', 'matthew honnibal', 'main developers', 'ines montani', 'library', 'written', 'spacy', 'published', 'open', 'founders', 'cython']\n"
     ]
    }
   ],
   "source": [
    "from rake_nltk import Rake\n",
    "rake_nltk_var = Rake()\n",
    "text = \"\"\"spaCy is an open-source software library for advanced natural language processing,\n",
    "written in the programming languages Python and Cython. The library is published under the MIT license\n",
    "and its main developers are Matthew Honnibal and Ines Montani, the founders of the software company Explosion.\"\"\"\n",
    "rake_nltk_var.extract_keywords_from_text(text)\n",
    "keyword_extracted = rake_nltk_var.get_ranked_phrases()\n",
    "print(keyword_extracted)"
   ],
   "metadata": {
    "collapsed": false
   }
  },
  {
   "cell_type": "code",
   "execution_count": 31,
   "outputs": [
    {
     "name": "stdout",
     "output_type": "stream",
     "text": [
      "['turbo mode runs', 'leaves clean lines', 'highly recommend !.', 'find another place', 'stand also charges', 'quickly become used', 'stick vacuum brands', 'used yet', 'stick vacuums', 'stand holds', 'lg vacuum', 'trigger like', 'three modes', 'spare battery', 'slight inconvenience', 'really impressed', 'really helpful', 'really care', 'piece inside', 'new model', 'may come', 'lg a925ksm', 'index finger', 'great suction', 'good thing', 'diagnostics tool', 'battery life', 'battery life', 'always ready']\n"
     ]
    },
    {
     "name": "stderr",
     "output_type": "stream",
     "text": [
      "[nltk_data] Downloading package punkt to\n",
      "[nltk_data]     C:\\Users\\aiden2.kim\\AppData\\Roaming\\nltk_data...\n",
      "[nltk_data]   Package punkt is already up-to-date!\n"
     ]
    }
   ],
   "source": [
    "nltk.download('punkt')\n",
    "from rake_nltk import Rake\n",
    "\n",
    "# r = Rake()\n",
    "r = Rake(min_length=2, max_length=3)\n",
    "text = \"\"\"Really impressed with this LG vacuum. It has great suction on our carpet and leaves clean lines. It also works great grabbing crumbs against the baseboards in the kitchen. There are three modes of suction and you just need to press the power button vs holding the trigger like other stick vacuum brands. While turbo mode runs the battery down faster I have yet to run out of battery life before finishing the job. The grip on the back of the handle is nice but I do not really care for the piece inside the handle by my index finger.   While a slight inconvenience, you quickly become used to it being there.  The Kompressor technology works great to make more room for dirt and helps with emptying. It is lighter than other stick vacuums I have used and I like that the stand holds all the attachments and spare battery so you do not have to find another place to store them.  This vaccum has made it fun to clean in our house and its easy for our kids to grab off the stand and use when they need to clean up a mess.  The stand also charges the both batteries so its always ready to go when needed which is really helpful.  The app has a self-diagnostics tool that I have not used yet but may come in handy in the future.  Overall, very happy with the ease of assembly, performance and battery life of this new model from LG.  Highly recommend!.The LG CordZero A925KSM Kompressor Stick Vacuum is similar to some other LG cordless vacuum models, and that is a very good thing.  The LG A925KSM is an excellent cordless stick vacuum that performs very well and is very pleasant and easy to use.\"\"\"\n",
    "\n",
    "\n",
    "r.extract_keywords_from_text(text)\n",
    "keyword_extracted = r.get_ranked_phrases()\n",
    "# keyword_extracted = rake_nltk_var.get_ranked_phrases()[:10]\n",
    "print(keyword_extracted)"
   ],
   "metadata": {
    "collapsed": false
   }
  },
  {
   "cell_type": "code",
   "execution_count": 38,
   "outputs": [
    {
     "name": "stdout",
     "output_type": "stream",
     "text": [
      "['leaves clean lines', 'great suction', 'carpet']\n"
     ]
    },
    {
     "name": "stderr",
     "output_type": "stream",
     "text": [
      "[nltk_data] Downloading package punkt to\n",
      "[nltk_data]     C:\\Users\\aiden2.kim\\AppData\\Roaming\\nltk_data...\n",
      "[nltk_data]   Package punkt is already up-to-date!\n"
     ]
    }
   ],
   "source": [
    "nltk.download('punkt')\n",
    "from rake_nltk import Rake, Metric\n",
    "\n",
    "stopwords = ['LG', 'Hi']\n",
    "# 1. d(w)/f(w) (Default metric) Ratio of degree of word to its frequency.\n",
    "# r = Rake(\n",
    "#         # ranking_metric=Metric.WORD_FREQUENCY,\n",
    "#         # stopwords= stopwords,\n",
    "#         # min_length=1, max_length=5\n",
    "#\n",
    "#\n",
    "#          )\n",
    "\n",
    "r = Rake(include_repeated_phrases=False)\n",
    "\n",
    "\n",
    "text =\n",
    "r.extract_keywords_from_text(text)\n",
    "keyword_extracted = r.get_ranked_phrases()\n",
    "# keyword_extracted = rake_nltk_var.get_ranked_phrases()[:10]\n",
    "print(keyword_extracted)"
   ],
   "metadata": {
    "collapsed": false
   }
  },
  {
   "cell_type": "code",
   "execution_count": null,
   "outputs": [],
   "source": [],
   "metadata": {
    "collapsed": false
   }
  }
 ],
 "metadata": {
  "kernelspec": {
   "display_name": "Python 3",
   "language": "python",
   "name": "python3"
  },
  "language_info": {
   "codemirror_mode": {
    "name": "ipython",
    "version": 2
   },
   "file_extension": ".py",
   "mimetype": "text/x-python",
   "name": "python",
   "nbconvert_exporter": "python",
   "pygments_lexer": "ipython2",
   "version": "2.7.6"
  }
 },
 "nbformat": 4,
 "nbformat_minor": 0
}
