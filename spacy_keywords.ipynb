{
 "cells": [
  {
   "cell_type": "code",
   "execution_count": 6,
   "metadata": {
    "collapsed": true
   },
   "outputs": [
    {
     "name": "stdout",
     "output_type": "stream",
     "text": [
      "(LG, three, LG)\n"
     ]
    }
   ],
   "source": [
    "import spacy\n",
    "\n",
    "\n",
    "nlp = spacy.load(\"en_core_web_lg\")\n",
    "\n",
    "text = \"\"\"Really impressed with this LG vacuum. It has great suction on our carpet and leaves clean lines. It also works great grabbing crumbs against the baseboards in the kitchen. There are three modes of suction and you just need to press the power button vs holding the trigger like other stick vacuum brands. While turbo mode runs the battery down faster I have yet to run out of battery life before finishing the job. The grip on the back of the handle is nice but I do not really care for the piece inside the handle by my index finger.   While a slight inconvenience, you quickly become used to it being there.  The Kompressor technology works great to make more room for dirt and helps with emptying. It is lighter than other stick vacuums I have used and I like that the stand holds all the attachments and spare battery so you do not have to find another place to store them.  This vaccum has made it fun to clean in our house and its easy for our kids to grab off the stand and use when they need to clean up a mess.  The stand also charges the both batteries so its always ready to go when needed which is really helpful.  The app has a self-diagnostics tool that I have not used yet but may come in handy in the future.  Overall, very happy with the ease of assembly, performance and battery life of this new model from LG.  Highly recommend!.\"\"\"\n",
    "doc = nlp(text)\n",
    "print(doc.ents)"
   ]
  },
  {
   "cell_type": "code",
   "execution_count": null,
   "outputs": [],
   "source": [],
   "metadata": {
    "collapsed": false
   }
  }
 ],
 "metadata": {
  "kernelspec": {
   "display_name": "Python 3",
   "language": "python",
   "name": "python3"
  },
  "language_info": {
   "codemirror_mode": {
    "name": "ipython",
    "version": 2
   },
   "file_extension": ".py",
   "mimetype": "text/x-python",
   "name": "python",
   "nbconvert_exporter": "python",
   "pygments_lexer": "ipython2",
   "version": "2.7.6"
  }
 },
 "nbformat": 4,
 "nbformat_minor": 0
}
